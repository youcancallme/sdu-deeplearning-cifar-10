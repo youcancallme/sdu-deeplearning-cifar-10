{
  "cells": [
    {
      "cell_type": "markdown",
      "metadata": {
        "id": "view-in-github",
        "colab_type": "text"
      },
      "source": [
        "<a href=\"https://colab.research.google.com/github/youcancallme/sdu-deeplearning-cifar-10/blob/main/CIFAR_10_v8_end.ipynb\" target=\"_parent\"><img src=\"https://colab.research.google.com/assets/colab-badge.svg\" alt=\"Open In Colab\"/></a>"
      ]
    },
    {
      "cell_type": "markdown",
      "metadata": {
        "id": "zDkwnu6X4el-"
      },
      "source": [
        "# 初始化"
      ]
    },
    {
      "cell_type": "markdown",
      "metadata": {
        "id": "oDKs8U2z4el_"
      },
      "source": [
        "## 本地实现"
      ]
    },
    {
      "cell_type": "code",
      "source": [
        "try:\n",
        "  # %tensorflow_version only exists in Colab.\n",
        "  %tensorflow_version 2.x\n",
        "except Exception:\n",
        "  pass\n"
      ],
      "metadata": {
        "id": "Ahm_QxWtFmLY",
        "colab": {
          "base_uri": "https://localhost:8080/"
        },
        "outputId": "36c539e1-9d79-4ad8-ca0c-ae8253b11c88"
      },
      "execution_count": 1,
      "outputs": [
        {
          "output_type": "stream",
          "name": "stdout",
          "text": [
            "Colab only includes TensorFlow 2.x; %tensorflow_version has no effect.\n"
          ]
        }
      ]
    },
    {
      "cell_type": "markdown",
      "metadata": {
        "id": "DuPONzSXfdg1"
      },
      "source": [
        "首先进行的是文件读取"
      ]
    },
    {
      "cell_type": "code",
      "execution_count": 2,
      "metadata": {
        "id": "j01-fgRTfjeR",
        "colab": {
          "base_uri": "https://localhost:8080/"
        },
        "outputId": "d746e9bf-d46e-4283-e4c8-1c31e24d5ae9"
      },
      "outputs": [
        {
          "output_type": "stream",
          "name": "stdout",
          "text": [
            "Mounted at /content/drive\n"
          ]
        }
      ],
      "source": [
        "from google.colab import drive\n",
        "drive.mount('/content/drive')"
      ]
    },
    {
      "cell_type": "markdown",
      "metadata": {
        "id": "bkP6KD4j4emC"
      },
      "source": [
        "## torchvision实现"
      ]
    },
    {
      "cell_type": "markdown",
      "metadata": {
        "id": "KumQxCz64emC"
      },
      "source": [
        "上面是我自己对数据的处理，其实torchvision提供了对cifar-10数据集的处理，并且提供了及其方便的预处理代码"
      ]
    },
    {
      "cell_type": "code",
      "source": [
        "!pip install tensorboardX\n",
        "from tensorboardX import SummaryWriter"
      ],
      "metadata": {
        "id": "P9w9cotKCJIv",
        "colab": {
          "base_uri": "https://localhost:8080/"
        },
        "outputId": "b33a2259-44df-4c67-ec70-3122c6473026"
      },
      "execution_count": 3,
      "outputs": [
        {
          "output_type": "stream",
          "name": "stdout",
          "text": [
            "Collecting tensorboardX\n",
            "  Downloading tensorboardX-2.6.2.2-py2.py3-none-any.whl (101 kB)\n",
            "\u001b[?25l     \u001b[90m━━━━━━━━━━━━━━━━━━━━━━━━━━━━━━━━━━━━━━━━\u001b[0m \u001b[32m0.0/101.7 kB\u001b[0m \u001b[31m?\u001b[0m eta \u001b[36m-:--:--\u001b[0m\r\u001b[2K     \u001b[90m━━━━━━━━━━━━━━━━━━━━━━━━━━━━━━━━━━━━━━━━\u001b[0m \u001b[32m101.7/101.7 kB\u001b[0m \u001b[31m4.2 MB/s\u001b[0m eta \u001b[36m0:00:00\u001b[0m\n",
            "\u001b[?25hRequirement already satisfied: numpy in /usr/local/lib/python3.10/dist-packages (from tensorboardX) (1.25.2)\n",
            "Requirement already satisfied: packaging in /usr/local/lib/python3.10/dist-packages (from tensorboardX) (24.0)\n",
            "Requirement already satisfied: protobuf>=3.20 in /usr/local/lib/python3.10/dist-packages (from tensorboardX) (3.20.3)\n",
            "Installing collected packages: tensorboardX\n",
            "Successfully installed tensorboardX-2.6.2.2\n"
          ]
        }
      ]
    },
    {
      "cell_type": "code",
      "execution_count": 4,
      "metadata": {
        "id": "cmu5X4aM4emD"
      },
      "outputs": [],
      "source": [
        "import torch\n",
        "import torchvision\n",
        "import torchvision.transforms as transforms\n",
        "import torch.nn as nn\n",
        "import torch.optim as optim"
      ]
    },
    {
      "cell_type": "markdown",
      "metadata": {
        "id": "d6MeWu1R4emD"
      },
      "source": [
        "### 数据增强"
      ]
    },
    {
      "cell_type": "markdown",
      "metadata": {
        "id": "qIj2nYmM4emD"
      },
      "source": [
        "图像增广，训练集进行增广，测试时标准化执行"
      ]
    },
    {
      "cell_type": "code",
      "execution_count": 5,
      "metadata": {
        "id": "Sw16QZnV4emD"
      },
      "outputs": [],
      "source": [
        "#已经解压的数据集路径\n",
        "#本地\n",
        "# unzip_folder_path='../cifar-10-python'\n",
        "#colab\n",
        "unzip_folder_path= '/content/drive/MyDrive/cifar-10-python'"
      ]
    },
    {
      "cell_type": "code",
      "execution_count": 6,
      "metadata": {
        "id": "1c7rN2oL4emD"
      },
      "outputs": [],
      "source": [
        "#训练集\n",
        "transform_train = torchvision.transforms.Compose([\n",
        "    # 在高度和宽度上将图像放大到40像素的正方形\n",
        "    torchvision.transforms.Resize(40),\n",
        "    # 生成一个面积为原始图像面积0.64～1倍的小正方形，\n",
        "    # 然后将其缩放为高度和宽度均为32像素的正方形\n",
        "    torchvision.transforms.RandomResizedCrop(32, scale=(0.64, 1.0),ratio=(1.0, 1.0)),\n",
        "    #以 50% 的概率对输入图像进行水平翻转,用于数据增强。\n",
        "    torchvision.transforms.RandomHorizontalFlip(),\n",
        "    # NumPy 数组转换为 PyTorch Tensor 。\n",
        "    torchvision.transforms.ToTensor(),\n",
        "    # 标准化图像的每个通道 三通道分别归一化，到均值为 0、标准差为 1 的分布。\n",
        "    torchvision.transforms.Normalize([0.4914, 0.4822, 0.4465],\n",
        "                                     [0.2023, 0.1994, 0.2010])])\n",
        "\n",
        "#测试集\n",
        "transform_test = torchvision.transforms.Compose([\n",
        "    torchvision.transforms.ToTensor(),\n",
        "    torchvision.transforms.Normalize([0.4914, 0.4822, 0.4465],\n",
        "                                     [0.2023, 0.1994, 0.2010])])"
      ]
    },
    {
      "cell_type": "code",
      "execution_count": 7,
      "metadata": {
        "id": "xymu_dC04emD"
      },
      "outputs": [],
      "source": [
        "#如果不使用数据增广的话，只将数据变为tensor和标准化\n",
        "transform= torchvision.transforms.Compose([\n",
        "    torchvision.transforms.ToTensor(),\n",
        "    torchvision.transforms.Normalize([0.4914, 0.4822, 0.4465],\n",
        "                                     [0.2023, 0.1994, 0.2010])])\n"
      ]
    },
    {
      "cell_type": "code",
      "execution_count": 8,
      "metadata": {
        "id": "cJxK43n64emD"
      },
      "outputs": [],
      "source": [
        "#训练集 train=True加载训练集\n",
        "trainset = torchvision.datasets.CIFAR10(root=unzip_folder_path, train=True,\n",
        "                                        download=False, transform=transform_train)\n",
        "\n",
        "#测试集\n",
        "testset = torchvision.datasets.CIFAR10(root=unzip_folder_path, train=False,\n",
        "                                       download=False, transform=transform_test)"
      ]
    },
    {
      "cell_type": "code",
      "execution_count": 9,
      "metadata": {
        "id": "1DIW8SNS_C7H",
        "colab": {
          "base_uri": "https://localhost:8080/"
        },
        "outputId": "622b3799-a5a3-4728-cc0f-1f5a53fe2a48"
      },
      "outputs": [
        {
          "output_type": "execute_result",
          "data": {
            "text/plain": [
              "torch.Size([3, 32, 32])"
            ]
          },
          "metadata": {},
          "execution_count": 9
        }
      ],
      "source": [
        "image, label = trainset[0]\n",
        "image_size = image.size()\n",
        "image_size"
      ]
    },
    {
      "cell_type": "markdown",
      "metadata": {
        "id": "h6oZQvPX4emD"
      },
      "source": [
        "### 绘图准备"
      ]
    },
    {
      "cell_type": "code",
      "source": [
        "# Set up the summary writer for TensorBoard\n",
        "writer = SummaryWriter('/content/drive/MyDrive/runs')"
      ],
      "metadata": {
        "id": "-ZWj3sO1Cd_-"
      },
      "execution_count": 10,
      "outputs": []
    },
    {
      "cell_type": "markdown",
      "metadata": {
        "id": "N7aMuYZH4emE"
      },
      "source": [
        "## 1折交叉验证"
      ]
    },
    {
      "cell_type": "markdown",
      "metadata": {
        "id": "UCXrvNlI4emE"
      },
      "source": [
        "使用KFold类从sklearn.model_selection库中创建了一个1折交叉验证对象。n_splits参数设置为10，表示将数据集划分为10个折（10份），shuffle=True表示在划分前对数据进行洗牌。"
      ]
    },
    {
      "cell_type": "code",
      "execution_count": 11,
      "metadata": {
        "id": "Et9cwLFF4emE"
      },
      "outputs": [],
      "source": [
        "from sklearn.model_selection import KFold\n",
        "kfold = KFold(n_splits=10, shuffle=True)"
      ]
    },
    {
      "cell_type": "code",
      "execution_count": 12,
      "metadata": {
        "id": "AcZ0r2nq4emE"
      },
      "outputs": [],
      "source": [
        "# argmax 函数别名定义了一个匿名函数，它接受参数 x，并调用 x.argmax(*args, **kwargs) 方法。\n",
        "# astype 函数别名定义了一个匿名函数，它接受参数 x，并调用 x.type(*args, **kwargs) 方法。\n",
        "# reduce_sum 函数别名定义了一个匿名函数，它接受参数 x，并调用 x.sum(*args, **kwargs) 方法。\n",
        "\n",
        "argmax = lambda x, *args, **kwargs: x.argmax(*args, **kwargs)\n",
        "astype = lambda x, *args, **kwargs: x.type(*args, **kwargs)\n",
        "reduce_sum = lambda x, *args, **kwargs: x.sum(*args, **kwargs)\n",
        "def accuracy(y_hat, y):\n",
        "    #首先处理y_hat形状，如果 y_hat 的维度大于1且最后一个维度大于1,则说明 y_hat 是一个包含多个类别概率的tensor。\n",
        "    #这种情况下,需要使用 argmax 函数找出每个样本预测概率最高的类别索引,赋值给 y_hat。\n",
        "    if len(y_hat.shape) > 1 and y_hat.shape[1] > 1:\n",
        "        y_hat = argmax(y_hat, axis=1)\n",
        "  #使用astype函数将y_hat的数据类型转换为和y相同的类型,方便比较\n",
        "  #比较是否相等，如果相等就得到布尔类型的tensor\n",
        "    cmp = astype(y_hat, y.dtype) == y\n",
        "  #使用 reduce_sum 函数统计 cmp 中为True的元素个数,得到预测正确的样本数\n",
        "    return float(reduce_sum(astype(cmp, y.dtype)))"
      ]
    },
    {
      "cell_type": "code",
      "execution_count": 13,
      "metadata": {
        "id": "U5Pzk1fA4emE"
      },
      "outputs": [],
      "source": [
        "def train_batch(net, X, y, loss, trainer, devices):\n",
        "    # 转移到一个device上\n",
        "    if isinstance(X, list):\n",
        "        # Required for BERT fine-tuning (to be covered later)\n",
        "        X = [x.to(devices[0]) for x in X]\n",
        "    else:\n",
        "        X = X.to(devices[0])\n",
        "    y = y.to(devices[0])\n",
        "    #训练\n",
        "    net.train()\n",
        "    #梯度为0\n",
        "    trainer.zero_grad()\n",
        "    #前向传播\n",
        "    pred = net(X)\n",
        "    #计算损失\n",
        "    l = loss(pred, y)\n",
        "    #反向传播更新参数\n",
        "    l.sum().backward()\n",
        "    trainer.step()\n",
        "\n",
        "    #本批次的损失和准确度\n",
        "    train_loss_sum = l.sum()\n",
        "    train_acc_sum = accuracy(pred, y)\n",
        "    return train_loss_sum, train_acc_sum\n"
      ]
    },
    {
      "cell_type": "code",
      "source": [
        "train_losses = []\n",
        "train_accs = []\n",
        "val_accs = []"
      ],
      "metadata": {
        "id": "t_KGrqUGNqq3"
      },
      "execution_count": 62,
      "outputs": []
    },
    {
      "cell_type": "code",
      "source": [
        "#用于训练：\n",
        "def train(train_iter,valid_iter,net, criterion, lr_period, lr_decay, lr, wd, devices, num_epochs=1, batch_size=128):\n",
        "  # 为每一折创建一个新的网络实例\n",
        "    model = nn.DataParallel(net, device_ids=devices).to(devices[0])\n",
        "\n",
        "      # sgd优化器\n",
        "    optimizer = torch.optim.SGD(model.parameters(), lr=lr, momentum=0.9, weight_decay=wd)\n",
        "    #学习率调度器，\n",
        "    scheduler = torch.optim.lr_scheduler.StepLR(optimizer, lr_period, lr_decay)\n",
        "    #计算k折的平均结果\n",
        "    cur_train_losses = 0.0\n",
        "    cur_train_accs = 0.0\n",
        "    cur_val_accs = 0.0\n",
        "    for epoch in range(num_epochs):\n",
        "\n",
        "\n",
        "        #running_loss 用于记录整个训练过程中的累积损失值。\n",
        "        running_loss = 0.0\n",
        "        train_correct = 0.0\n",
        "        train_total = 0\n",
        "        model.train()\n",
        "\n",
        "        #循环训练集的特征和标签\n",
        "        for i, (inputs, labels) in enumerate(train_iter):\n",
        "          #计算每个批次的损失和返回预测正确的样本数，\n",
        "          #net 特征 标签 损失函数 sgd优化器 设备\n",
        "            loss, acc = train_batch(model, inputs, labels, criterion, optimizer, devices)\n",
        "            #用正确的样本数/当前batch的总样本数即可\n",
        "            Acc=float(acc) / labels.shape[0]\n",
        "            train_correct += float(acc)\n",
        "            train_total += labels.shape[0]\n",
        "          #将当前批次的损失值 loss 加到 running_loss 变量中。\n",
        "            running_loss += loss.item()\n",
        "          #检查当前批次的索引是否为训练数据批次总数的 1/5 倍,或者是否为最后一个批次。\n",
        "            if (i + 1) % (len(train_iter) // 5) == 0 or i == len(train_iter) - 1:\n",
        "              #当前batch的索引和总batch数量，当前的平均损失，当前的准确率\n",
        "                print(f'Epoch [{epoch+1}/{num_epochs}]，Batch [{i+1}/{len(train_iter)}], Loss: {running_loss / (i + 1):.4f}, Acc: {Acc:.2f}')\n",
        "                # Dynamic plotting\n",
        "                writer.add_scalar('Loss/train', loss.item(), epoch * len(train_iter) + i)\n",
        "                writer.add_scalar('Accuracy/train', Acc, epoch * len(train_iter) + i)\n",
        "        train_losses.append(running_loss /len(train_iter))\n",
        "        # if len(train_iter) > 0:\n",
        "        #     cur_train_losses = (cur_train_losses + running_loss / len(train_iter)) / (epoch+1)\n",
        "        # else:\n",
        "        #     cur_train_losses = cur_train_losses\n",
        "        cur_train_losses=(cur_train_losses+running_loss /len(train_iter))/(epoch+1)\n",
        "        train_accs.append(train_correct/train_total)\n",
        "        # if train_total > 0:\n",
        "        #     cur_val_accs=(cur_val_accs+train_correct/train_total)/epoch\n",
        "        # else:\n",
        "        #     cur_val_accs = cur_val_accs\n",
        "        cur_train_accs=(cur_train_accs+train_correct/train_total)/(epoch+1)\n",
        "        scheduler.step()\n",
        "        print(f'epoch {epoch+1} AvgLoss: {cur_train_losses}, TraninAvgAcc: {cur_train_accs} ,ValAvgAcc: {cur_val_accs}')\n",
        "\n",
        "\n",
        "    # with torch.no_grad():\n",
        "    if valid_iter is not None:\n",
        "        model.eval()\n",
        "        correct = 0\n",
        "        total = 0\n",
        "\n",
        "        for inputs, labels in valid_iter:\n",
        "            inputs = inputs.to(devices[0])\n",
        "            labels = labels.to(devices[0])\n",
        "\n",
        "            outputs = model(inputs)\n",
        "            _, predicted = torch.max(outputs.data, 1)\n",
        "            total += labels.size(0)\n",
        "            correct += (predicted == labels).sum().item()\n",
        "\n",
        "        accuracy = correct / total\n",
        "        print(f'Validation Accuracy: {accuracy:.2f}')\n",
        "        writer.add_scalar('Accuracy/val', accuracy, epoch)\n",
        "        val_accs.append(accuracy)\n",
        "        cur_val_accs = accuracy\n",
        "\n",
        "# 最后得到是当前这一折损失 训练和验证的正确率\n",
        "    # print(f'Fold {fold+1} AvgLoss: {cur_train_losses}, TraninAvgAcc: {cur_train_accs} ,ValAvgAcc: {cur_val_accs}')\n",
        "    return cur_train_losses,cur_train_accs,cur_val_accs\n"
      ],
      "metadata": {
        "id": "CG1-AGv1H1gS"
      },
      "execution_count": 69,
      "outputs": []
    },
    {
      "cell_type": "code",
      "source": [
        "#可以用于验证集测试\n",
        "def k_fold(criterion, lr_period, lr_decay, lr, wd, trainset,devices, num_epochs=1, batch_size=128):\n",
        "    # 使用 KFold 进行 10 折交叉验证，shuffle=True 表示打乱数据集\n",
        "    kfold = KFold(n_splits=10, shuffle=True)\n",
        "\n",
        "    for fold, (train_indices, val_indices) in enumerate(kfold.split(trainset)):\n",
        "        cur_train_losses = 0.0\n",
        "        cur_train_accs = 0.0\n",
        "        cur_val_accs = 0.0\n",
        "        print(f'Fold {fold+1}')\n",
        "        trainset_fold = torch.utils.data.Subset(trainset, train_indices)  # 获取当前折的训练集\n",
        "        valset_fold = torch.utils.data.Subset(trainset, val_indices)  # 获取当前折的验证集\n",
        "        net=get_net()\n",
        "\n",
        "        #当前折训练数据集\n",
        "        trainloader_fold = torch.utils.data.DataLoader(trainset_fold, batch_size=batch_size, shuffle=True, num_workers=2)\n",
        "        #当前折验证数据集\n",
        "        valloader_fold = torch.utils.data.DataLoader(valset_fold, batch_size=batch_size, shuffle=False, num_workers=2)\n",
        "        cur_train_losses,cur_train_accs,cur_val_accs=train(trainloader_fold, valloader_fold,net, criterion, lr_period, lr_decay, lr, wd, devices)\n",
        "\n",
        "        # print(f'Fold {fold+1} AvgLoss: {cur_train_losses}, TraninAvgAcc: {cur_train_accs} ,ValAvgAcc: {cur_val_accs}')\n",
        "\n",
        "\n"
      ],
      "metadata": {
        "id": "LQdtxymQHmOd"
      },
      "execution_count": 64,
      "outputs": []
    },
    {
      "cell_type": "markdown",
      "metadata": {
        "id": "Z2swg6sg4emE"
      },
      "source": [
        "## ResNet模型"
      ]
    },
    {
      "cell_type": "markdown",
      "metadata": {
        "id": "uc_FCUk-4emF"
      },
      "source": [
        "残差块"
      ]
    },
    {
      "cell_type": "code",
      "execution_count": 17,
      "metadata": {
        "id": "wuZxJ8Zq4emF"
      },
      "outputs": [],
      "source": [
        "from torch.nn import functional as F\n",
        "#画图表示\n",
        "class Residual(nn.Module):\n",
        "    def __init__(self, input_channels, num_channels,\n",
        "                 use_1x1conv=False, strides=1):\n",
        "        #初始化\n",
        "        super().__init__()\n",
        "        #两个卷积层，内核大小都为3，\n",
        "        self.conv1 = nn.Conv2d(input_channels, num_channels,\n",
        "                               kernel_size=3, padding=1, stride=strides)\n",
        "        #输入通道为上一层的输出通道\n",
        "        self.conv2 = nn.Conv2d(num_channels, num_channels,\n",
        "                               kernel_size=3, padding=1)\n",
        "        if use_1x1conv:#如果不使用的话，在应用Relu前，将输入添加到输出；如果使用，通过添加1×1卷积来调整通道和分辨率\n",
        "            self.conv3 = nn.Conv2d(input_channels, num_channels,\n",
        "                                   kernel_size=1, stride=strides)\n",
        "        else:\n",
        "            self.conv3 = None\n",
        "        #两个批量归一化层\n",
        "        self.bn1 = nn.BatchNorm2d(num_channels)\n",
        "        self.bn2 = nn.BatchNorm2d(num_channels)\n",
        "\n",
        "    def forward(self, X):\n",
        "        Y = F.relu(self.bn1(self.conv1(X)))\n",
        "        Y = self.bn2(self.conv2(Y))\n",
        "        if self.conv3:\n",
        "            X = self.conv3(X)\n",
        "        Y += X\n",
        "        return F.relu(Y)"
      ]
    },
    {
      "cell_type": "code",
      "execution_count": 18,
      "metadata": {
        "id": "-5i_NbFU4emF"
      },
      "outputs": [],
      "source": [
        "def resnet18(num_classes, in_channels=1):\n",
        "\n",
        "    def resnet_block(in_channels, out_channels, num_residuals,\n",
        "                     first_block=False):\n",
        "        blk = []\n",
        "        for i in range(num_residuals):\n",
        "            if i == 0 and not first_block:\n",
        "                blk.append(\n",
        "                    Residual(in_channels, out_channels, use_1x1conv=True,\n",
        "                                 strides=2))\n",
        "            else:\n",
        "                blk.append(Residual(out_channels, out_channels))\n",
        "        return nn.Sequential(*blk)\n",
        "\n",
        "    # This model uses a smaller convolution kernel, stride, and padding and\n",
        "    #不可以删掉最大池化层，可能会使梯度消失，使网络的感受野减小\n",
        "    net = nn.Sequential(\n",
        "        nn.Conv2d(in_channels, 64, kernel_size=3, stride=1, padding=1),\n",
        "        nn.BatchNorm2d(64), nn.ReLU(),\n",
        "        nn.MaxPool2d(kernel_size=3, stride=2, padding=1))\n",
        "    net.add_module(\"resnet_block1\", resnet_block(64, 64, 2, first_block=True))\n",
        "    net.add_module(\"resnet_block2\", resnet_block(64, 128, 2))\n",
        "    net.add_module(\"resnet_block3\", resnet_block(128, 256, 2))\n",
        "    net.add_module(\"resnet_block4\", resnet_block(256, 512, 2))\n",
        "    net.add_module(\"global_avg_pool\", nn.AdaptiveAvgPool2d((1, 1)))\n",
        "    net.add_module(\"fc\",nn.Sequential(nn.Flatten(), nn.Linear(512, num_classes)))\n",
        "    return net"
      ]
    },
    {
      "cell_type": "code",
      "execution_count": 19,
      "metadata": {
        "id": "giWmXSrU4emF"
      },
      "outputs": [],
      "source": [
        "def get_net():\n",
        "    num_classes = 10\n",
        "    net = resnet18(num_classes, 3)\n",
        "    return net\n",
        "\n",
        "criterion = nn.CrossEntropyLoss(reduction=\"none\")"
      ]
    },
    {
      "cell_type": "code",
      "execution_count": 20,
      "metadata": {
        "id": "-anj7-7q_C7J",
        "colab": {
          "base_uri": "https://localhost:8080/"
        },
        "outputId": "a6aa1ad8-72b3-4060-9b8a-5c6038abe695"
      },
      "outputs": [
        {
          "output_type": "stream",
          "name": "stdout",
          "text": [
            "Conv2d output shape:\t torch.Size([4, 64, 32, 32])\n",
            "BatchNorm2d output shape:\t torch.Size([4, 64, 32, 32])\n",
            "ReLU output shape:\t torch.Size([4, 64, 32, 32])\n",
            "MaxPool2d output shape:\t torch.Size([4, 64, 16, 16])\n",
            "Sequential output shape:\t torch.Size([4, 64, 16, 16])\n",
            "Sequential output shape:\t torch.Size([4, 128, 8, 8])\n",
            "Sequential output shape:\t torch.Size([4, 256, 4, 4])\n",
            "Sequential output shape:\t torch.Size([4, 512, 2, 2])\n",
            "AdaptiveAvgPool2d output shape:\t torch.Size([4, 512, 1, 1])\n",
            "Sequential output shape:\t torch.Size([4, 10])\n"
          ]
        }
      ],
      "source": [
        "X = torch.rand(size=(4, 3, 32, 32))\n",
        "net=get_net()\n",
        "for layer in net:\n",
        "    X = layer(X)\n",
        "    print(layer.__class__.__name__,'output shape:\\t', X.shape)"
      ]
    },
    {
      "cell_type": "code",
      "source": [
        "!pip install matplotlib"
      ],
      "metadata": {
        "id": "WyIvt_FKD0IZ",
        "colab": {
          "base_uri": "https://localhost:8080/"
        },
        "outputId": "831612e7-95db-48c3-f229-091e3101be39"
      },
      "execution_count": 21,
      "outputs": [
        {
          "output_type": "stream",
          "name": "stdout",
          "text": [
            "Requirement already satisfied: matplotlib in /usr/local/lib/python3.10/dist-packages (3.7.1)\n",
            "Requirement already satisfied: contourpy>=1.0.1 in /usr/local/lib/python3.10/dist-packages (from matplotlib) (1.2.1)\n",
            "Requirement already satisfied: cycler>=0.10 in /usr/local/lib/python3.10/dist-packages (from matplotlib) (0.12.1)\n",
            "Requirement already satisfied: fonttools>=4.22.0 in /usr/local/lib/python3.10/dist-packages (from matplotlib) (4.52.4)\n",
            "Requirement already satisfied: kiwisolver>=1.0.1 in /usr/local/lib/python3.10/dist-packages (from matplotlib) (1.4.5)\n",
            "Requirement already satisfied: numpy>=1.20 in /usr/local/lib/python3.10/dist-packages (from matplotlib) (1.25.2)\n",
            "Requirement already satisfied: packaging>=20.0 in /usr/local/lib/python3.10/dist-packages (from matplotlib) (24.0)\n",
            "Requirement already satisfied: pillow>=6.2.0 in /usr/local/lib/python3.10/dist-packages (from matplotlib) (9.4.0)\n",
            "Requirement already satisfied: pyparsing>=2.3.1 in /usr/local/lib/python3.10/dist-packages (from matplotlib) (3.1.2)\n",
            "Requirement already satisfied: python-dateutil>=2.7 in /usr/local/lib/python3.10/dist-packages (from matplotlib) (2.8.2)\n",
            "Requirement already satisfied: six>=1.5 in /usr/local/lib/python3.10/dist-packages (from python-dateutil>=2.7->matplotlib) (1.16.0)\n"
          ]
        }
      ]
    },
    {
      "cell_type": "code",
      "source": [
        "import matplotlib.pyplot as plt"
      ],
      "metadata": {
        "id": "swb4MIRTD0sy"
      },
      "execution_count": 22,
      "outputs": []
    },
    {
      "cell_type": "code",
      "execution_count": 23,
      "metadata": {
        "id": "KoJKIujw6YOS"
      },
      "outputs": [],
      "source": [
        "def try_all_gpus():\n",
        "    \"\"\"Return all available GPUs, or [cpu(),] if no GPU exists.\"\"\"\n",
        "    devices = [\n",
        "        torch.device(f'cuda:{i}') for i in range(torch.cuda.device_count())]\n",
        "    return devices if devices else [torch.device('cpu')]"
      ]
    },
    {
      "cell_type": "code",
      "execution_count": 33,
      "metadata": {
        "id": "iR7u-fHK4emF",
        "colab": {
          "base_uri": "https://localhost:8080/"
        },
        "outputId": "993681f8-3d53-4feb-fe4a-430853e57e99"
      },
      "outputs": [
        {
          "output_type": "stream",
          "name": "stdout",
          "text": [
            "Fold 1\n",
            "Epoch [1/1]，Batch [70/352], Loss: 241.7079, Acc: 0.47\n",
            "Epoch [1/1]，Batch [140/352], Loss: 220.2353, Acc: 0.45\n",
            "Epoch [1/1]，Batch [210/352], Loss: 209.2605, Acc: 0.50\n",
            "Epoch [1/1]，Batch [280/352], Loss: 200.6248, Acc: 0.54\n",
            "Epoch [1/1]，Batch [350/352], Loss: 193.8003, Acc: 0.51\n",
            "Epoch [1/1]，Batch [352/352], Loss: 193.4462, Acc: 0.51\n",
            "Validation Accuracy: 48.86%\n",
            "Fold 1 AvgLoss: 193.44624662399292, TraninAvgAcc: 0.4514222222222222 ,ValAvgAcc: 48.86\n",
            "Fold 2\n",
            "Epoch [1/1]，Batch [70/352], Loss: 241.2820, Acc: 0.45\n",
            "Epoch [1/1]，Batch [140/352], Loss: 221.6814, Acc: 0.49\n",
            "Epoch [1/1]，Batch [210/352], Loss: 209.0047, Acc: 0.54\n",
            "Epoch [1/1]，Batch [280/352], Loss: 199.7986, Acc: 0.53\n",
            "Epoch [1/1]，Batch [350/352], Loss: 192.7662, Acc: 0.55\n",
            "Epoch [1/1]，Batch [352/352], Loss: 192.4191, Acc: 0.62\n",
            "Validation Accuracy: 49.66%\n",
            "Fold 2 AvgLoss: 192.4191145029935, TraninAvgAcc: 0.45204444444444447 ,ValAvgAcc: 49.66\n",
            "Fold 3\n",
            "Epoch [1/1]，Batch [70/352], Loss: 238.9481, Acc: 0.38\n",
            "Epoch [1/1]，Batch [140/352], Loss: 219.3235, Acc: 0.47\n",
            "Epoch [1/1]，Batch [210/352], Loss: 205.7467, Acc: 0.50\n",
            "Epoch [1/1]，Batch [280/352], Loss: 197.9084, Acc: 0.57\n",
            "Epoch [1/1]，Batch [350/352], Loss: 191.0258, Acc: 0.48\n",
            "Epoch [1/1]，Batch [352/352], Loss: 190.6380, Acc: 0.56\n",
            "Validation Accuracy: 55.52%\n",
            "Fold 3 AvgLoss: 190.63796645944768, TraninAvgAcc: 0.45826666666666666 ,ValAvgAcc: 55.52\n",
            "Fold 4\n",
            "Epoch [1/1]，Batch [70/352], Loss: 235.6217, Acc: 0.39\n",
            "Epoch [1/1]，Batch [140/352], Loss: 218.0284, Acc: 0.50\n",
            "Epoch [1/1]，Batch [210/352], Loss: 208.4964, Acc: 0.49\n",
            "Epoch [1/1]，Batch [280/352], Loss: 199.8635, Acc: 0.52\n",
            "Epoch [1/1]，Batch [350/352], Loss: 192.6465, Acc: 0.55\n",
            "Epoch [1/1]，Batch [352/352], Loss: 192.3024, Acc: 0.51\n",
            "Validation Accuracy: 53.06%\n",
            "Fold 4 AvgLoss: 192.3024339242415, TraninAvgAcc: 0.45055555555555554 ,ValAvgAcc: 53.06\n",
            "Fold 5\n",
            "Epoch [1/1]，Batch [70/352], Loss: 240.6276, Acc: 0.36\n",
            "Epoch [1/1]，Batch [140/352], Loss: 220.9322, Acc: 0.40\n",
            "Epoch [1/1]，Batch [210/352], Loss: 209.0999, Acc: 0.62\n",
            "Epoch [1/1]，Batch [280/352], Loss: 199.7929, Acc: 0.52\n",
            "Epoch [1/1]，Batch [350/352], Loss: 192.9567, Acc: 0.52\n",
            "Epoch [1/1]，Batch [352/352], Loss: 192.6109, Acc: 0.51\n",
            "Validation Accuracy: 50.30%\n",
            "Fold 5 AvgLoss: 192.61087760058317, TraninAvgAcc: 0.4542 ,ValAvgAcc: 50.3\n",
            "Fold 6\n",
            "Epoch [1/1]，Batch [70/352], Loss: 238.6962, Acc: 0.42\n",
            "Epoch [1/1]，Batch [140/352], Loss: 220.5685, Acc: 0.49\n",
            "Epoch [1/1]，Batch [210/352], Loss: 207.6391, Acc: 0.54\n",
            "Epoch [1/1]，Batch [280/352], Loss: 198.4312, Acc: 0.50\n",
            "Epoch [1/1]，Batch [350/352], Loss: 191.1381, Acc: 0.56\n",
            "Epoch [1/1]，Batch [352/352], Loss: 190.7186, Acc: 0.62\n",
            "Validation Accuracy: 52.30%\n",
            "Fold 6 AvgLoss: 190.71862910010597, TraninAvgAcc: 0.45437777777777777 ,ValAvgAcc: 52.3\n",
            "Fold 7\n",
            "Epoch [1/1]，Batch [70/352], Loss: 237.1395, Acc: 0.48\n",
            "Epoch [1/1]，Batch [140/352], Loss: 218.0265, Acc: 0.49\n",
            "Epoch [1/1]，Batch [210/352], Loss: 205.1066, Acc: 0.48\n",
            "Epoch [1/1]，Batch [280/352], Loss: 196.2118, Acc: 0.51\n",
            "Epoch [1/1]，Batch [350/352], Loss: 188.9560, Acc: 0.53\n",
            "Epoch [1/1]，Batch [352/352], Loss: 188.5276, Acc: 0.57\n",
            "Validation Accuracy: 48.68%\n",
            "Fold 7 AvgLoss: 188.5275985327634, TraninAvgAcc: 0.4630666666666667 ,ValAvgAcc: 48.68\n",
            "Fold 8\n",
            "Epoch [1/1]，Batch [70/352], Loss: 234.8611, Acc: 0.38\n",
            "Epoch [1/1]，Batch [140/352], Loss: 215.4049, Acc: 0.50\n",
            "Epoch [1/1]，Batch [210/352], Loss: 204.1407, Acc: 0.55\n",
            "Epoch [1/1]，Batch [280/352], Loss: 195.2557, Acc: 0.52\n",
            "Epoch [1/1]，Batch [350/352], Loss: 188.4419, Acc: 0.60\n",
            "Epoch [1/1]，Batch [352/352], Loss: 188.0019, Acc: 0.64\n",
            "Validation Accuracy: 51.14%\n",
            "Fold 8 AvgLoss: 188.0018996325406, TraninAvgAcc: 0.4623333333333333 ,ValAvgAcc: 51.14\n",
            "Fold 9\n",
            "Epoch [1/1]，Batch [70/352], Loss: 244.3076, Acc: 0.40\n",
            "Epoch [1/1]，Batch [140/352], Loss: 220.6107, Acc: 0.36\n",
            "Epoch [1/1]，Batch [210/352], Loss: 208.9064, Acc: 0.48\n",
            "Epoch [1/1]，Batch [280/352], Loss: 200.0920, Acc: 0.48\n",
            "Epoch [1/1]，Batch [350/352], Loss: 192.3457, Acc: 0.50\n",
            "Epoch [1/1]，Batch [352/352], Loss: 191.9469, Acc: 0.58\n",
            "Validation Accuracy: 54.36%\n",
            "Fold 9 AvgLoss: 191.94688584587792, TraninAvgAcc: 0.45395555555555556 ,ValAvgAcc: 54.36\n",
            "Fold 10\n",
            "Epoch [1/1]，Batch [70/352], Loss: 237.6944, Acc: 0.45\n",
            "Epoch [1/1]，Batch [140/352], Loss: 217.2020, Acc: 0.48\n",
            "Epoch [1/1]，Batch [210/352], Loss: 206.4576, Acc: 0.54\n",
            "Epoch [1/1]，Batch [280/352], Loss: 197.7687, Acc: 0.60\n",
            "Epoch [1/1]，Batch [350/352], Loss: 190.9054, Acc: 0.59\n",
            "Epoch [1/1]，Batch [352/352], Loss: 190.5320, Acc: 0.46\n",
            "Validation Accuracy: 51.60%\n",
            "Fold 10 AvgLoss: 190.53195255452937, TraninAvgAcc: 0.4573111111111111 ,ValAvgAcc: 51.6\n"
          ]
        }
      ],
      "source": [
        "# 训练：\n",
        "device,num_epochs, lr, wd =try_all_gpus(),20, 2e-4, 5e-4\n",
        "lr_period, lr_decay = 4, 0.9\n",
        "# train(net, train_iter, valid_iter, num_epochs, lr, wd, devices, lr_period,lr_decay)\n",
        "k_fold(criterion, lr_period, lr_decay, lr, wd, trainset,device)\n",
        "\n",
        "# Close the summary writer\n",
        "writer.close()"
      ]
    },
    {
      "cell_type": "code",
      "source": [
        "# Load the TensorBoard notebook extension.\n",
        "# %load_ext tensorboard\n",
        "# %tensorboard --logdir /content/drive/MyDrive/runs"
      ],
      "metadata": {
        "id": "dAlu9Z8rJ2yP"
      },
      "execution_count": null,
      "outputs": []
    },
    {
      "cell_type": "code",
      "source": [
        "def evaluate(model, test_loader, devices):\n",
        "    \"\"\"\n",
        "    在完整的验证集上评估模型性能\n",
        "\n",
        "    参数:\n",
        "    model (torch.nn.Module): 训练好的模型\n",
        "    testset (torch.utils.data.Dataset): 验证数据集\n",
        "    device (torch.device): 运行设备(CPU或GPU)\n",
        "\n",
        "    返回:\n",
        "    float: 模型在验证集上的性能指标(例如准确率)\n",
        "    \"\"\"\n",
        "    model = nn.DataParallel(net, device_ids=devices).to(devices[0])\n",
        "\n",
        "    model.eval()  # 设置模型为评估模式\n",
        "\n",
        "    correct = 0\n",
        "    total = 0\n",
        "\n",
        "    # test_loader = DataLoader(testset, batch_size=128, shuffle=False)\n",
        "\n",
        "\n",
        "\n",
        "\n",
        "    with torch.no_grad():\n",
        "        for data, target in test_loader:\n",
        "            if isinstance(data, list):\n",
        "              # Required for BERT fine-tuning (to be covered later)\n",
        "              data = [x.to(devices[0]) for x in data]\n",
        "            else:\n",
        "                data = data.to(devices[0])\n",
        "            target =  target.to(devices[0])\n",
        "            output = model(data)\n",
        "\n",
        "            _, predicted = torch.max(output.data, 1)\n",
        "            total += target.size(0)\n",
        "            correct += (predicted == target).sum().item()\n",
        "\n",
        "    accuracy = 100 * correct / total\n",
        "    print(f'Validation Accuracy: {accuracy:.2f}%')\n",
        "    writer_eva.add_scalar('Accuracy/val', accuracy)\n",
        "    # return accuracy\n",
        "\n"
      ],
      "metadata": {
        "id": "RE3M5v5ELoUA"
      },
      "execution_count": 34,
      "outputs": []
    },
    {
      "cell_type": "code",
      "source": [
        "# net=get_net()\n",
        "test_loader = torch.utils.data.DataLoader(testset, batch_size=128, shuffle=True, num_workers=2)\n",
        "evaluate(net, test_loader, device)\n",
        "# writer_eva.close()"
      ],
      "metadata": {
        "id": "Tc4ELE8HM2wx",
        "colab": {
          "base_uri": "https://localhost:8080/",
          "height": 342
        },
        "outputId": "41a86742-0604-4d7a-9773-bc86f7fbe3d8"
      },
      "execution_count": 35,
      "outputs": [
        {
          "output_type": "stream",
          "name": "stdout",
          "text": [
            "Validation Accuracy: 5.87%\n"
          ]
        },
        {
          "output_type": "error",
          "ename": "NameError",
          "evalue": "name 'writer_eva' is not defined",
          "traceback": [
            "\u001b[0;31m---------------------------------------------------------------------------\u001b[0m",
            "\u001b[0;31mNameError\u001b[0m                                 Traceback (most recent call last)",
            "\u001b[0;32m<ipython-input-35-fb90c44a97e7>\u001b[0m in \u001b[0;36m<cell line: 3>\u001b[0;34m()\u001b[0m\n\u001b[1;32m      1\u001b[0m \u001b[0;31m# net=get_net()\u001b[0m\u001b[0;34m\u001b[0m\u001b[0;34m\u001b[0m\u001b[0m\n\u001b[1;32m      2\u001b[0m \u001b[0mtest_loader\u001b[0m \u001b[0;34m=\u001b[0m \u001b[0mtorch\u001b[0m\u001b[0;34m.\u001b[0m\u001b[0mutils\u001b[0m\u001b[0;34m.\u001b[0m\u001b[0mdata\u001b[0m\u001b[0;34m.\u001b[0m\u001b[0mDataLoader\u001b[0m\u001b[0;34m(\u001b[0m\u001b[0mtestset\u001b[0m\u001b[0;34m,\u001b[0m \u001b[0mbatch_size\u001b[0m\u001b[0;34m=\u001b[0m\u001b[0;36m128\u001b[0m\u001b[0;34m,\u001b[0m \u001b[0mshuffle\u001b[0m\u001b[0;34m=\u001b[0m\u001b[0;32mTrue\u001b[0m\u001b[0;34m,\u001b[0m \u001b[0mnum_workers\u001b[0m\u001b[0;34m=\u001b[0m\u001b[0;36m2\u001b[0m\u001b[0;34m)\u001b[0m\u001b[0;34m\u001b[0m\u001b[0;34m\u001b[0m\u001b[0m\n\u001b[0;32m----> 3\u001b[0;31m \u001b[0mevaluate\u001b[0m\u001b[0;34m(\u001b[0m\u001b[0mnet\u001b[0m\u001b[0;34m,\u001b[0m \u001b[0mtest_loader\u001b[0m\u001b[0;34m,\u001b[0m \u001b[0mdevice\u001b[0m\u001b[0;34m)\u001b[0m\u001b[0;34m\u001b[0m\u001b[0;34m\u001b[0m\u001b[0m\n\u001b[0m\u001b[1;32m      4\u001b[0m \u001b[0;31m# writer_eva.close()\u001b[0m\u001b[0;34m\u001b[0m\u001b[0;34m\u001b[0m\u001b[0m\n",
            "\u001b[0;32m<ipython-input-34-534e1fdbd850>\u001b[0m in \u001b[0;36mevaluate\u001b[0;34m(model, test_loader, devices)\u001b[0m\n\u001b[1;32m     39\u001b[0m     \u001b[0maccuracy\u001b[0m \u001b[0;34m=\u001b[0m \u001b[0;36m100\u001b[0m \u001b[0;34m*\u001b[0m \u001b[0mcorrect\u001b[0m \u001b[0;34m/\u001b[0m \u001b[0mtotal\u001b[0m\u001b[0;34m\u001b[0m\u001b[0;34m\u001b[0m\u001b[0m\n\u001b[1;32m     40\u001b[0m     \u001b[0mprint\u001b[0m\u001b[0;34m(\u001b[0m\u001b[0;34mf'Validation Accuracy: {accuracy:.2f}%'\u001b[0m\u001b[0;34m)\u001b[0m\u001b[0;34m\u001b[0m\u001b[0;34m\u001b[0m\u001b[0m\n\u001b[0;32m---> 41\u001b[0;31m     \u001b[0mwriter_eva\u001b[0m\u001b[0;34m.\u001b[0m\u001b[0madd_scalar\u001b[0m\u001b[0;34m(\u001b[0m\u001b[0;34m'Accuracy/val'\u001b[0m\u001b[0;34m,\u001b[0m \u001b[0maccuracy\u001b[0m\u001b[0;34m)\u001b[0m\u001b[0;34m\u001b[0m\u001b[0;34m\u001b[0m\u001b[0m\n\u001b[0m\u001b[1;32m     42\u001b[0m     \u001b[0;31m# return accuracy\u001b[0m\u001b[0;34m\u001b[0m\u001b[0;34m\u001b[0m\u001b[0m\n\u001b[1;32m     43\u001b[0m \u001b[0;34m\u001b[0m\u001b[0m\n",
            "\u001b[0;31mNameError\u001b[0m: name 'writer_eva' is not defined"
          ]
        }
      ]
    },
    {
      "cell_type": "code",
      "source": [
        "def plot_train_val(train_losses, train_accs):\n",
        "    fig, (ax1, ax2) = plt.subplots(1, 2, figsize=(12, 6))\n",
        "\n",
        "    # 绘制训练和验证的损失\n",
        "    ax1.plot(train_losses, label='Train Loss')\n",
        "    # ax1.plot(val_losses, label='Val Loss')\n",
        "    ax1.set_xlabel('Epoch')\n",
        "    ax1.set_ylabel('Loss')\n",
        "    ax1.set_title('Training Loss')\n",
        "    ax1.legend()\n",
        "\n",
        "    # 绘制训练和验证的准确率\n",
        "    ax2.plot(train_accs, label='Train Acc')\n",
        "    # ax2.plot(val_accs, label='Val Acc')\n",
        "    ax2.set_xlabel('Epoch')\n",
        "    ax2.set_ylabel('Accuracy')\n",
        "    ax2.set_ylim(0, 1)  # 将 y 轴范围设置为 0-1\n",
        "    ax2.set_title('Training Accuracy')\n",
        "    ax2.legend()\n",
        "\n",
        "    plt.show()"
      ],
      "metadata": {
        "id": "DZhGksdOPZHm"
      },
      "execution_count": 65,
      "outputs": []
    },
    {
      "cell_type": "code",
      "source": [
        "\n",
        "# 绘制训练和验证的准确率和损失\n",
        "plot_train_val(train_losses, train_accs)\n"
      ],
      "metadata": {
        "id": "lUy57UoGPWle",
        "colab": {
          "base_uri": "https://localhost:8080/",
          "height": 564
        },
        "outputId": "21692eeb-24af-4dd2-82a3-6b1c1becc030"
      },
      "execution_count": 55,
      "outputs": [
        {
          "output_type": "display_data",
          "data": {
            "text/plain": [
              "<Figure size 1200x600 with 2 Axes>"
            ],
            "image/png": "[encoded data removed]"
          },
          "metadata": {}
        }
      ]
    },
    {
      "cell_type": "code",
      "source": [
        "%reload_ext tensorboard"
      ],
      "metadata": {
        "id": "sGtIzuPzLhJK"
      },
      "execution_count": 43,
      "outputs": []
    },
    {
      "cell_type": "code",
      "source": [
        "%tensorboard --logdir /content/drive/MyDrive/runs"
      ],
      "metadata": {
        "id": "6Gvn-6bjLpNt"
      },
      "execution_count": null,
      "outputs": []
    },
    {
      "cell_type": "markdown",
      "source": [
        "这里应该用所有的作为训练集，然后验证集为验证集，重新训练跑出结果"
      ],
      "metadata": {
        "id": "9xbaPDNGsfZf"
      }
    },
    {
      "cell_type": "code",
      "source": [
        "#训练集  batch_size=128  shuffle=True打乱数据  num_workers=2使用两个进程加载数据\n",
        "trainloader = torch.utils.data.DataLoader(trainset, batch_size=128,shuffle=True, num_workers=2)\n",
        "\n",
        "#测试集 batch_size=128  shuffle=False不打乱数据  num_workers=2使用两个进程加载数据\n",
        "testloader = torch.utils.data.DataLoader(testset, batch_size=128,shuffle=False, num_workers=2)"
      ],
      "metadata": {
        "id": "Qn8f042dye2G"
      },
      "execution_count": 45,
      "outputs": []
    },
    {
      "cell_type": "code",
      "source": [
        "train_losses = []\n",
        "train_accs = []\n",
        "val_accs = []"
      ],
      "metadata": {
        "id": "kNn8_EyZz49f"
      },
      "execution_count": 73,
      "outputs": []
    },
    {
      "cell_type": "code",
      "source": [
        "#训练\n",
        "net=get_net()\n",
        "end_train_ls,end_train_acc,end_test_acc= train(trainloader,testloader,\n",
        "                         net, criterion, lr_period, lr_decay, lr, wd, device,5)"
      ],
      "metadata": {
        "colab": {
          "base_uri": "https://localhost:8080/"
        },
        "id": "Wi6Sp3izzueL",
        "outputId": "6ec77597-3186-45ef-81a1-e40a52618282"
      },
      "execution_count": 74,
      "outputs": [
        {
          "output_type": "stream",
          "name": "stdout",
          "text": [
            "Epoch [1/5]，Batch [78/391], Loss: 232.5306, Acc: 0.43\n",
            "Epoch [1/5]，Batch [156/391], Loss: 211.0181, Acc: 0.57\n",
            "Epoch [1/5]，Batch [234/391], Loss: 197.8726, Acc: 0.58\n",
            "Epoch [1/5]，Batch [312/391], Loss: 189.5417, Acc: 0.54\n",
            "Epoch [1/5]，Batch [390/391], Loss: 182.7109, Acc: 0.58\n",
            "Epoch [1/5]，Batch [391/391], Loss: 182.4975, Acc: 0.59\n",
            "epoch 1 AvgLoss: 182.49749102190023, TraninAvgAcc: 0.48226 ,ValAvgAcc: 0.0\n",
            "Epoch [2/5]，Batch [78/391], Loss: 143.8174, Acc: 0.59\n",
            "Epoch [2/5]，Batch [156/391], Loss: 141.9678, Acc: 0.69\n",
            "Epoch [2/5]，Batch [234/391], Loss: 138.2382, Acc: 0.76\n",
            "Epoch [2/5]，Batch [312/391], Loss: 135.4583, Acc: 0.69\n",
            "Epoch [2/5]，Batch [390/391], Loss: 132.8205, Acc: 0.66\n",
            "Epoch [2/5]，Batch [391/391], Loss: 132.6764, Acc: 0.70\n",
            "epoch 2 AvgLoss: 157.58695346803006, TraninAvgAcc: 0.5586599999999999 ,ValAvgAcc: 0.0\n",
            "Epoch [3/5]，Batch [78/391], Loss: 110.9559, Acc: 0.61\n",
            "Epoch [3/5]，Batch [156/391], Loss: 110.7174, Acc: 0.70\n",
            "Epoch [3/5]，Batch [234/391], Loss: 108.7555, Acc: 0.77\n",
            "Epoch [3/5]，Batch [312/391], Loss: 107.5370, Acc: 0.72\n",
            "Epoch [3/5]，Batch [390/391], Loss: 106.5619, Acc: 0.77\n",
            "Epoch [3/5]，Batch [391/391], Loss: 106.4614, Acc: 0.71\n",
            "epoch 3 AvgLoss: 88.01613353849575, TraninAvgAcc: 0.42278666666666664 ,ValAvgAcc: 0.0\n",
            "Epoch [4/5]，Batch [78/391], Loss: 95.8229, Acc: 0.77\n",
            "Epoch [4/5]，Batch [156/391], Loss: 95.0402, Acc: 0.73\n",
            "Epoch [4/5]，Batch [234/391], Loss: 93.9764, Acc: 0.77\n",
            "Epoch [4/5]，Batch [312/391], Loss: 92.9121, Acc: 0.77\n",
            "Epoch [4/5]，Batch [390/391], Loss: 91.8758, Acc: 0.79\n",
            "Epoch [4/5]，Batch [391/391], Loss: 91.7446, Acc: 0.85\n",
            "epoch 4 AvgLoss: 44.94019067704119, TraninAvgAcc: 0.29288166666666665 ,ValAvgAcc: 0.0\n",
            "Epoch [5/5]，Batch [78/391], Loss: 79.4763, Acc: 0.79\n",
            "Epoch [5/5]，Batch [156/391], Loss: 79.3175, Acc: 0.73\n",
            "Epoch [5/5]，Batch [234/391], Loss: 78.7940, Acc: 0.82\n",
            "Epoch [5/5]，Batch [312/391], Loss: 79.0476, Acc: 0.85\n",
            "Epoch [5/5]，Batch [390/391], Loss: 78.3638, Acc: 0.82\n",
            "Epoch [5/5]，Batch [391/391], Loss: 78.2798, Acc: 0.81\n",
            "epoch 5 AvgLoss: 24.6439918729452, TraninAvgAcc: 0.21600033333333335 ,ValAvgAcc: 0.0\n",
            "Validation Accuracy: 0.77%\n"
          ]
        }
      ]
    },
    {
      "cell_type": "code",
      "source": [
        "# 绘制训练和验证的准确率和损失\n",
        "plot_train_val(train_losses, train_accs)"
      ],
      "metadata": {
        "colab": {
          "base_uri": "https://localhost:8080/",
          "height": 564
        },
        "id": "cIAs1xP30qAQ",
        "outputId": "f2b8feaa-9724-41d4-cbd9-23602c0e9de5"
      },
      "execution_count": 75,
      "outputs": [
        {
          "output_type": "display_data",
          "data": {
            "text/plain": [
              "<Figure size 1200x600 with 2 Axes>"
            ],
            "image/png": "[encoded data removed]"
          },
          "metadata": {}
        }
      ]
    }
  ],
  "metadata": {
    "accelerator": "GPU",
    "colab": {
      "gpuType": "T4",
      "provenance": [],
      "include_colab_link": true
    },
    "kernelspec": {
      "display_name": "d2l",
      "language": "python",
      "name": "d2l"
    },
    "language_info": {
      "codemirror_mode": {
        "name": "ipython",
        "version": 3
      },
      "file_extension": ".py",
      "mimetype": "text/x-python",
      "name": "python",
      "nbconvert_exporter": "python",
      "pygments_lexer": "ipython3",
      "version": "3.12.3"
    }
  },
  "nbformat": 4,
  "nbformat_minor": 0
}